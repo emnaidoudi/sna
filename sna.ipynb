{
 "cells": [
  {
   "cell_type": "code",
   "execution_count": 1,
   "metadata": {},
   "outputs": [],
   "source": [
    "import pandas as pd\n",
    "from pymongo import MongoClient\n",
    "from sqlalchemy import create_engine\n",
    "import math\n",
    "import numpy as np\n",
    "from bson import ObjectId\n",
    "import json\n",
    "from sqlalchemy import create_engine"
   ]
  },
  {
   "cell_type": "code",
   "execution_count": 2,
   "metadata": {
    "scrolled": true
   },
   "outputs": [],
   "source": [
    "with open('config.json') as config_file:\n",
    "    config_data = json.load(config_file)\n",
    "db_settings = config_data['sql_database']\n",
    "postgres_url = \"postgresql://\"+db_settings[\"POSTGRES_USER\"]+\":\"+db_settings[\"POSTGRES_PASSWORD\"]+\"@\"+db_settings[\"POSTGRES_HOST\"]+\":5432/\"+db_settings[\"POSTGRES_DB\"]    "
   ]
  },
  {
   "cell_type": "code",
   "execution_count": 3,
   "metadata": {},
   "outputs": [],
   "source": [
    "def write_df_to_table(df_writer, table):\n",
    "    engine = create_engine(postgres_url)\n",
    "    df_writer.to_sql(table, engine, if_exists='append',  index=False) "
   ]
  },
  {
   "cell_type": "code",
   "execution_count": 4,
   "metadata": {},
   "outputs": [],
   "source": [
    "def _connect_mongo(host, port, username, password, db, authSource):\n",
    "    if username and password:\n",
    "        conn = MongoClient(host=host,\n",
    "                            port=port,\n",
    "                            username=username,\n",
    "                            password=password,\n",
    "                           authSource=authSource)\n",
    "    else:\n",
    "        conn = MongoClient(host, port)\n",
    "        \n",
    "    return conn[db]    "
   ]
  },
  {
   "cell_type": "code",
   "execution_count": 5,
   "metadata": {},
   "outputs": [],
   "source": [
    "def read_mongo(db, collection, query={}, host='localhost', port=27017, username=None, password=None, authSource=\"admin\"):\n",
    "    # Connect to MongoDB\n",
    "    db = _connect_mongo(host=host, port=port, username=username, password=password, db=db, authSource=authSource)\n",
    "    cursor = db[collection].find(query)\n",
    "    df =  pd.DataFrame(list(cursor))\n",
    "    return df"
   ]
  },
  {
   "cell_type": "code",
   "execution_count": 6,
   "metadata": {},
   "outputs": [],
   "source": [
    "def verify(d, key):\n",
    "    if (key in d) :\n",
    "        if (d[key]is not np.nan):\n",
    "            return d[key] \n",
    "    else:\n",
    "        return None "
   ]
  },
  {
   "cell_type": "code",
   "execution_count": 7,
   "metadata": {},
   "outputs": [],
   "source": [
    "def affectation(k):\n",
    "    m=dict()\n",
    "    m['first_name']=verify(k,\"first_name\")\n",
    "    m['last_name']=verify(k,\"last_name\")\n",
    "    m['idemp']=verify(k,\"registration_number\")\n",
    "        \n",
    "#     lr=verify(k,\"hiring_exit\")\n",
    "#     if lr is not None :\n",
    "#         m['CRLeaveReason']=verify(lr,\"leave_reason\")\n",
    "#     else :\n",
    "#         m['CRLeaveReason'] = \"\"  \n",
    "    \n",
    "    return m  \n"
   ]
  },
  {
   "cell_type": "markdown",
   "metadata": {},
   "source": [
    "# Dimemp"
   ]
  },
  {
   "cell_type": "code",
   "execution_count": 10,
   "metadata": {},
   "outputs": [],
   "source": [
    "df = read_mongo(\"coreRh\",\"employee\",username=\"accretioadmin\",password=\"adminaccretio&2017\")\n",
    "df_company = read_mongo(\"coreRh\",\"company\",username=\"accretioadmin\",password=\"adminaccretio&2017\")[[\"_id\",\"label\"]]"
   ]
  },
  {
   "cell_type": "code",
   "execution_count": 11,
   "metadata": {},
   "outputs": [],
   "source": [
    "df = df[[\"registration_number\", \"first_name\", \"last_name\", \"hiring_exit\", \"affectation\" ]]\n",
    "datadict = df.to_dict('records')\n",
    "liste=[]\n",
    "for i in datadict:\n",
    "    temp = affectation(i)   \n",
    "    if (verify(i[\"hiring_exit\"], \"hiring_company\" ) is not None):\n",
    "        temp['company']=i[\"hiring_exit\"][\"hiring_company\"].id \n",
    "    else :\n",
    "        temp['company']= None  \n",
    "    liste.append(temp)    \n",
    "\n",
    "df = pd.DataFrame(liste)"
   ]
  },
  {
   "cell_type": "code",
   "execution_count": 12,
   "metadata": {},
   "outputs": [],
   "source": [
    "df_company.rename({\"_id\":\"company\"}, inplace=True, axis=1)\n",
    "df = df.merge(df_company, on='company', how='left')\n",
    "df.drop(\"company\", axis=1, inplace=True)\n",
    "df.rename({\"label\":\"company\"}, inplace=True, axis=1)"
   ]
  },
  {
   "cell_type": "code",
   "execution_count": 13,
   "metadata": {},
   "outputs": [],
   "source": [
    "dimemployee = df"
   ]
  },
  {
   "cell_type": "code",
   "execution_count": 14,
   "metadata": {
    "scrolled": true
   },
   "outputs": [
    {
     "data": {
      "text/plain": [
       "str"
      ]
     },
     "execution_count": 14,
     "metadata": {},
     "output_type": "execute_result"
    }
   ],
   "source": [
    "type(dimemployee[\"idemp\"][0])"
   ]
  },
  {
   "cell_type": "markdown",
   "metadata": {},
   "source": [
    "## Dimtopic"
   ]
  },
  {
   "cell_type": "code",
   "execution_count": 16,
   "metadata": {},
   "outputs": [],
   "source": [
    "df_topic = read_mongo(\"topic_detection\",\"topic\",username=\"accretioadmin\",password=\"adminaccretio&2017\")"
   ]
  },
  {
   "cell_type": "code",
   "execution_count": 17,
   "metadata": {},
   "outputs": [],
   "source": [
    "dimtopic = df_topic[[\"idtopic\",\"assigned_name\",\"importance\"]]"
   ]
  },
  {
   "cell_type": "code",
   "execution_count": 18,
   "metadata": {},
   "outputs": [
    {
     "data": {
      "text/html": [
       "<div>\n",
       "<style scoped>\n",
       "    .dataframe tbody tr th:only-of-type {\n",
       "        vertical-align: middle;\n",
       "    }\n",
       "\n",
       "    .dataframe tbody tr th {\n",
       "        vertical-align: top;\n",
       "    }\n",
       "\n",
       "    .dataframe thead th {\n",
       "        text-align: right;\n",
       "    }\n",
       "</style>\n",
       "<table border=\"1\" class=\"dataframe\">\n",
       "  <thead>\n",
       "    <tr style=\"text-align: right;\">\n",
       "      <th></th>\n",
       "      <th>idtopic</th>\n",
       "      <th>assigned_name</th>\n",
       "      <th>importance</th>\n",
       "    </tr>\n",
       "  </thead>\n",
       "  <tbody>\n",
       "    <tr>\n",
       "      <th>0</th>\n",
       "      <td>2</td>\n",
       "      <td>succès</td>\n",
       "      <td>157</td>\n",
       "    </tr>\n",
       "    <tr>\n",
       "      <th>1</th>\n",
       "      <td>3</td>\n",
       "      <td>client</td>\n",
       "      <td>157</td>\n",
       "    </tr>\n",
       "    <tr>\n",
       "      <th>2</th>\n",
       "      <td>1</td>\n",
       "      <td>sport</td>\n",
       "      <td>51</td>\n",
       "    </tr>\n",
       "    <tr>\n",
       "      <th>3</th>\n",
       "      <td>4</td>\n",
       "      <td>teambuilding</td>\n",
       "      <td>46</td>\n",
       "    </tr>\n",
       "    <tr>\n",
       "      <th>4</th>\n",
       "      <td>5</td>\n",
       "      <td>bienvenue</td>\n",
       "      <td>43</td>\n",
       "    </tr>\n",
       "    <tr>\n",
       "      <th>5</th>\n",
       "      <td>0</td>\n",
       "      <td>précaution</td>\n",
       "      <td>41</td>\n",
       "    </tr>\n",
       "  </tbody>\n",
       "</table>\n",
       "</div>"
      ],
      "text/plain": [
       "   idtopic assigned_name  importance\n",
       "0        2        succès         157\n",
       "1        3        client         157\n",
       "2        1         sport          51\n",
       "3        4  teambuilding          46\n",
       "4        5     bienvenue          43\n",
       "5        0    précaution          41"
      ]
     },
     "execution_count": 18,
     "metadata": {},
     "output_type": "execute_result"
    }
   ],
   "source": [
    "dimtopic"
   ]
  },
  {
   "cell_type": "markdown",
   "metadata": {},
   "source": [
    "## Dimpost"
   ]
  },
  {
   "cell_type": "code",
   "execution_count": 38,
   "metadata": {},
   "outputs": [],
   "source": [
    "df_post = read_mongo(\"connectTimeline\",\"post\",username=\"accretioadmin\",password=\"adminaccretio&2017\")"
   ]
  },
  {
   "cell_type": "code",
   "execution_count": 39,
   "metadata": {},
   "outputs": [
    {
     "data": {
      "text/html": [
       "<div>\n",
       "<style scoped>\n",
       "    .dataframe tbody tr th:only-of-type {\n",
       "        vertical-align: middle;\n",
       "    }\n",
       "\n",
       "    .dataframe tbody tr th {\n",
       "        vertical-align: top;\n",
       "    }\n",
       "\n",
       "    .dataframe thead th {\n",
       "        text-align: right;\n",
       "    }\n",
       "</style>\n",
       "<table border=\"1\" class=\"dataframe\">\n",
       "  <thead>\n",
       "    <tr style=\"text-align: right;\">\n",
       "      <th></th>\n",
       "      <th>_id</th>\n",
       "      <th>_class</th>\n",
       "      <th>attached_file</th>\n",
       "      <th>type</th>\n",
       "      <th>registrationNumber</th>\n",
       "      <th>likes</th>\n",
       "      <th>comments</th>\n",
       "      <th>timelines</th>\n",
       "      <th>body</th>\n",
       "      <th>publish_date</th>\n",
       "      <th>idNews</th>\n",
       "      <th>title</th>\n",
       "      <th>pictures</th>\n",
       "      <th>document_name</th>\n",
       "      <th>taggedEmployees</th>\n",
       "    </tr>\n",
       "  </thead>\n",
       "  <tbody>\n",
       "    <tr>\n",
       "      <th>0</th>\n",
       "      <td>5bae630cdb5d87000977308d</td>\n",
       "      <td>com.advyteam.sirh.domain.post.Picture</td>\n",
       "      <td>aad42685-a1d1-47fd-b592-63bb861b2c1d</td>\n",
       "      <td>PICTURE</td>\n",
       "      <td>00115</td>\n",
       "      <td>[{'_id': None, 'registrationNumber': '00079', ...</td>\n",
       "      <td>[5bb2973ba5b16a0001ef4ead]</td>\n",
       "      <td>[]</td>\n",
       "      <td>Ooredoo, Acteur essentiel du secteur des nouve...</td>\n",
       "      <td>2018-09-28 17:20:14.253</td>\n",
       "      <td>5bae630cdb5d87000977308e</td>\n",
       "      <td>NaN</td>\n",
       "      <td>NaN</td>\n",
       "      <td>NaN</td>\n",
       "      <td>NaN</td>\n",
       "    </tr>\n",
       "  </tbody>\n",
       "</table>\n",
       "</div>"
      ],
      "text/plain": [
       "                        _id                                 _class  \\\n",
       "0  5bae630cdb5d87000977308d  com.advyteam.sirh.domain.post.Picture   \n",
       "\n",
       "                          attached_file     type registrationNumber  \\\n",
       "0  aad42685-a1d1-47fd-b592-63bb861b2c1d  PICTURE              00115   \n",
       "\n",
       "                                               likes  \\\n",
       "0  [{'_id': None, 'registrationNumber': '00079', ...   \n",
       "\n",
       "                     comments timelines  \\\n",
       "0  [5bb2973ba5b16a0001ef4ead]        []   \n",
       "\n",
       "                                                body            publish_date  \\\n",
       "0  Ooredoo, Acteur essentiel du secteur des nouve... 2018-09-28 17:20:14.253   \n",
       "\n",
       "                     idNews title pictures document_name taggedEmployees  \n",
       "0  5bae630cdb5d87000977308e   NaN      NaN           NaN             NaN  "
      ]
     },
     "execution_count": 39,
     "metadata": {},
     "output_type": "execute_result"
    }
   ],
   "source": [
    "df_post.head(1)"
   ]
  },
  {
   "cell_type": "code",
   "execution_count": 40,
   "metadata": {},
   "outputs": [],
   "source": [
    "df_post = df_post[[\"_id\",\"attached_file\",\"registrationNumber\",\"likes\",\"comments\",\"body\"]]"
   ]
  },
  {
   "cell_type": "code",
   "execution_count": 41,
   "metadata": {},
   "outputs": [],
   "source": [
    "df_post[\"idemp\"] = df_post[\"registrationNumber\"]\n",
    "df_post[\"text\"] = df_post[\"body\"]\n",
    "df_post[\"idpost\"] = df_post[\"_id\"].astype(str)\n",
    "\n",
    "df_post['count_likes'] = df_post['likes'].str.len()\n",
    "df_post['count_comments'] = df_post['comments'].str.len()\n",
    "\n",
    "df_post.loc[df_post['count_likes'].isnull(), 'count_likes'] = 0\n",
    "df_post.loc[df_post['count_comments'].isnull(), 'count_comments'] = 0\n",
    "\n",
    "df_post = df_post[[\"idpost\",\"text\",\"attached_file\",\"count_likes\",\"count_comments\",\"idemp\"]]\n"
   ]
  },
  {
   "cell_type": "code",
   "execution_count": 42,
   "metadata": {},
   "outputs": [],
   "source": [
    "df_topic = df_topic[[\"idtopic\",\"posts\"]]\n",
    "datadict = df_topic.to_dict('records')\n",
    "temp = dict()\n",
    "liste = list()\n",
    "for i in datadict : \n",
    "    idtopic = i[\"idtopic\"]\n",
    "    for j in i[\"posts\"]:\n",
    "        temp[\"idtopic\"] = idtopic\n",
    "        temp[\"idpost\"] = j\n",
    "        liste.append(temp.copy())\n",
    "df_post_topic = pd.DataFrame(liste)    "
   ]
  },
  {
   "cell_type": "code",
   "execution_count": 43,
   "metadata": {},
   "outputs": [],
   "source": [
    "dimpost = df_post.merge(df_post_topic, on='idpost', how='inner')"
   ]
  },
  {
   "cell_type": "code",
   "execution_count": 44,
   "metadata": {},
   "outputs": [],
   "source": [
    "dimpost[\"score\"] = dimpost[\"count_comments\"] * 3 + dimpost[\"count_likes\"]"
   ]
  },
  {
   "cell_type": "code",
   "execution_count": 45,
   "metadata": {
    "scrolled": true
   },
   "outputs": [],
   "source": [
    "dimpost[\"idpost\"] = dimpost[\"idpost\"].astype(str)"
   ]
  },
  {
   "cell_type": "code",
   "execution_count": 46,
   "metadata": {},
   "outputs": [
    {
     "data": {
      "text/plain": [
       "0      5c2ded63a4791700013bfeb1\n",
       "1      5c2df272a4791700013bfeb9\n",
       "2      5c2e1227a4791700013bfec1\n",
       "3      5c2e38e5a4791700013bfed2\n",
       "4      5c2e3a08a4791700013bfed3\n",
       "                 ...           \n",
       "490    5e0334467e464300014a0016\n",
       "491    5e32dddac21d7700014c439a\n",
       "492    5e9ed3176847650001dda971\n",
       "493    5ebe7717cc05530001fd33ff\n",
       "494    5f369c79e032360001e5944e\n",
       "Name: idpost, Length: 495, dtype: object"
      ]
     },
     "execution_count": 46,
     "metadata": {},
     "output_type": "execute_result"
    }
   ],
   "source": [
    "dimpost[\"idpost\"]"
   ]
  },
  {
   "cell_type": "code",
   "execution_count": 47,
   "metadata": {},
   "outputs": [],
   "source": [
    "factanalysis = dimpost[[\"idemp\",\"idpost\",\"score\"]]"
   ]
  },
  {
   "cell_type": "code",
   "execution_count": 31,
   "metadata": {},
   "outputs": [],
   "source": [
    "#factanalysis = dimemployee.merge(factanalysis, on='idemp', how='inner')\n"
   ]
  },
  {
   "cell_type": "code",
   "execution_count": 32,
   "metadata": {
    "scrolled": true
   },
   "outputs": [],
   "source": [
    "dimpost = dimpost[[\"idpost\",\"idtopic\",\"text\",\"attached_file\",\"count_likes\",\"count_comments\"]]"
   ]
  },
  {
   "cell_type": "code",
   "execution_count": null,
   "metadata": {},
   "outputs": [],
   "source": []
  },
  {
   "cell_type": "code",
   "execution_count": 33,
   "metadata": {},
   "outputs": [],
   "source": [
    "#write_df_to_table(dimemployee,'dimemployee')"
   ]
  },
  {
   "cell_type": "code",
   "execution_count": 34,
   "metadata": {},
   "outputs": [],
   "source": [
    "#write_df_to_table(dimtopic,'dimtopic')"
   ]
  },
  {
   "cell_type": "code",
   "execution_count": 35,
   "metadata": {},
   "outputs": [],
   "source": [
    "#write_df_to_table(dimpost,'dimpost')"
   ]
  },
  {
   "cell_type": "code",
   "execution_count": 48,
   "metadata": {},
   "outputs": [],
   "source": [
    "#write_df_to_table(factanalysis,'factanalysis')"
   ]
  },
  {
   "cell_type": "code",
   "execution_count": null,
   "metadata": {},
   "outputs": [],
   "source": []
  },
  {
   "cell_type": "code",
   "execution_count": null,
   "metadata": {},
   "outputs": [],
   "source": []
  }
 ],
 "metadata": {
  "kernelspec": {
   "display_name": "Python 3",
   "language": "python",
   "name": "python3"
  },
  "language_info": {
   "codemirror_mode": {
    "name": "ipython",
    "version": 3
   },
   "file_extension": ".py",
   "mimetype": "text/x-python",
   "name": "python",
   "nbconvert_exporter": "python",
   "pygments_lexer": "ipython3",
   "version": "3.7.6"
  }
 },
 "nbformat": 4,
 "nbformat_minor": 4
}
