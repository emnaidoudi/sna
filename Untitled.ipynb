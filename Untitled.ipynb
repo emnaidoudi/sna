{
 "cells": [
  {
   "cell_type": "code",
   "execution_count": null,
   "metadata": {},
   "outputs": [],
   "source": [
    "from pymongo import MongoClient"
   ]
  },
  {
   "cell_type": "code",
   "execution_count": null,
   "metadata": {},
   "outputs": [],
   "source": [
    "with open('config.json') as config_file:\n",
    "    config_data = json.load(config_file)"
   ]
  },
  {
   "cell_type": "code",
   "execution_count": null,
   "metadata": {},
   "outputs": [],
   "source": [
    "mongo_setting = config_data['mongo_database']\n",
    "host = mongo_setting[\"MONGO_HOST\"]\n",
    "port = mongo_setting[\"MONGO_PORT\"]\n",
    "username = mongo_setting[\"MONGO_USER\"]\n",
    "password = mongo_setting[\"MONGO_PASSWORD\"]\n",
    "authSource = mongo_setting[\"AUTH_SOURCE\"]"
   ]
  },
  {
   "cell_type": "code",
   "execution_count": null,
   "metadata": {},
   "outputs": [],
   "source": [
    "def _connect_mongo(db):\n",
    "    conn = MongoClient(host=host,\n",
    "                            port=int(port),\n",
    "                            username=username,\n",
    "                            password=password,\n",
    "                           authSource=authSource)     \n",
    "    return conn[db]    "
   ]
  },
  {
   "cell_type": "code",
   "execution_count": null,
   "metadata": {},
   "outputs": [],
   "source": [
    "def read_mongo(db, collection, query={}):\n",
    "    db = _connect_mongo(db=db)\n",
    "    cursor = db[collection].find(query)\n",
    "    df =  pd.DataFrame(list(cursor))\n",
    "    return df"
   ]
  },
  {
   "cell_type": "code",
   "execution_count": null,
   "metadata": {},
   "outputs": [],
   "source": [
    "df_emp = read_mongo(\"connectTimeline\", \"employee\")\n",
    "df_company = read_mongo(\"connectTimeline\",\"company\")[[\"_id\",\"label\"]]\n",
    "df_topic = read_mongo(\"topicDetection\", \"topic\")\n",
    "df_post = read_mongo(\"connectTimeline\", \"post\")"
   ]
  },
  {
   "cell_type": "code",
   "execution_count": null,
   "metadata": {},
   "outputs": [],
   "source": []
  },
  {
   "cell_type": "code",
   "execution_count": null,
   "metadata": {},
   "outputs": [],
   "source": [
    "datadict = df_emp.to_dict('records')\n",
    "temp = dict()\n",
    "liste =list()\n",
    "for i in datadict:\n",
    "    temp['first_name'] = verify(i,\"first_name\")\n",
    "    temp['last_name'] = verify(i,\"last_name\")\n",
    "    temp['idemp'] = verify(i,\"registration_number\")  \n",
    "    if (verify(i[\"hiring_exit\"], \"hiring_company\" ) is not None):\n",
    "        temp['company']=i[\"hiring_exit\"][\"hiring_company\"].id \n",
    "    else :\n",
    "        temp['company']= None  \n",
    "    liste.append(temp)   \n",
    "\n",
    "df = pd.DataFrame(liste)"
   ]
  },
  {
   "cell_type": "code",
   "execution_count": null,
   "metadata": {},
   "outputs": [],
   "source": [
    "df_company.rename({\"_id\":\"company\"}, inplace=True, axis=1)\n",
    "df = df.merge(df_company, on='company', how='left')\n",
    "\n",
    "df.drop(\"company\", axis=1, inplace=True)\n",
    "df.rename({\"label\":\"company\"}, inplace=True, axis=1)"
   ]
  },
  {
   "cell_type": "code",
   "execution_count": null,
   "metadata": {},
   "outputs": [],
   "source": [
    "factanalysis[\"score\"] = dimpost[\"count_comments\"] * 3 + dimpost[\"count_likes\"]"
   ]
  },
  {
   "cell_type": "code",
   "execution_count": null,
   "metadata": {},
   "outputs": [],
   "source": []
  },
  {
   "cell_type": "code",
   "execution_count": null,
   "metadata": {},
   "outputs": [],
   "source": []
  },
  {
   "cell_type": "code",
   "execution_count": null,
   "metadata": {},
   "outputs": [],
   "source": [
    "from sqlalchemy import create_engine"
   ]
  },
  {
   "cell_type": "code",
   "execution_count": null,
   "metadata": {},
   "outputs": [],
   "source": [
    "def write_df_to_table(df_writer, table):\n",
    "    engine = create_engine(postgres_url)\n",
    "    df_writer.to_sql(table, engine, if_exists='append',  index=False) "
   ]
  }
 ],
 "metadata": {
  "kernelspec": {
   "display_name": "Python 3",
   "language": "python",
   "name": "python3"
  },
  "language_info": {
   "codemirror_mode": {
    "name": "ipython",
    "version": 3
   },
   "file_extension": ".py",
   "mimetype": "text/x-python",
   "name": "python",
   "nbconvert_exporter": "python",
   "pygments_lexer": "ipython3",
   "version": "3.7.6"
  }
 },
 "nbformat": 4,
 "nbformat_minor": 4
}
